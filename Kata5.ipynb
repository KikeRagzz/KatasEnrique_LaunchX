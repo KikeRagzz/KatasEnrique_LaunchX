{
 "cells": [
  {
   "cell_type": "code",
   "execution_count": null,
   "metadata": {},
   "outputs": [],
   "source": [
    "Kata5"
   ]
  },
  {
   "cell_type": "markdown",
   "metadata": {},
   "source": [
    "Operadores en Python "
   ]
  },
  {
   "cell_type": "code",
   "execution_count": 3,
   "metadata": {},
   "outputs": [
    {
     "name": "stdout",
     "output_type": "stream",
     "text": [
      "42\n",
      "18\n",
      "360\n",
      "17\n",
      "22\n",
      "215\n",
      "215.3\n",
      "23\n",
      "23\n",
      "13\n",
      "12\n"
     ]
    }
   ],
   "source": [
    "from math import ceil, floor\n",
    "#Adición \n",
    "answer = 30 + 12\n",
    "print(answer)\n",
    "#Sustracción\n",
    "difference = 30 - 12\n",
    "print(difference)\n",
    "# Multiplicación \n",
    "product = 30 * 12\n",
    "print(product)\n",
    "#división \n",
    "seconds = 1042\n",
    "display_minutes = 1042 // 60\n",
    "display_seconds = 1042 % 60\n",
    "\n",
    "print(display_minutes)\n",
    "print(display_seconds)\n",
    "# Jerrquía\n",
    "result_1 = 1032 + 26 * 2\n",
    "result_2 = 1032 + (26 * 2)\n",
    "#Conversión de números\n",
    "demo_int = int('215')\n",
    "print(demo_int)\n",
    "demo_float = float('215.3')\n",
    "print(demo_float)\n",
    "#Valores Absolutos\n",
    "print(abs(39 - 16))\n",
    "print(abs(16 - 39))\n",
    "#Math Library\n",
    "round_up = ceil(12.5)\n",
    "print(round_up)\n",
    "\n",
    "round_down = floor(12.5)\n",
    "print(round_down)"
   ]
  },
  {
   "cell_type": "markdown",
   "metadata": {},
   "source": [
    "KATA 5"
   ]
  },
  {
   "cell_type": "code",
   "execution_count": 9,
   "metadata": {},
   "outputs": [
    {
     "name": "stdout",
     "output_type": "stream",
     "text": [
      "628949330\n",
      "390577534\n"
     ]
    }
   ],
   "source": [
    "#TASK 1\n",
    "d_Tierra = 149597870\n",
    "d_jupiter = 778547200\n",
    "print(d_jupiter - d_Tierra)\n",
    "print(round((d_jupiter - d_Tierra)*.621))"
   ]
  },
  {
   "cell_type": "code",
   "execution_count": 4,
   "metadata": {},
   "outputs": [
    {
     "name": "stdout",
     "output_type": "stream",
     "text": [
      "50300000\n",
      "31236300.0\n"
     ]
    }
   ],
   "source": [
    "#TASK 2\n",
    "d_planet1 = input(\"Ingrese el valor del planeta 1:\")\n",
    "d_planet2 = input(\"Ingrese el valor del planeta 1:\")\n",
    "d_planet1, d_planet2 = int(d_planet1), int(d_planet2)\n",
    "result = abs(d_planet1-d_planet2)\n",
    "print(result)\n",
    "print(result*0.621)"
   ]
  }
 ],
 "metadata": {
  "interpreter": {
   "hash": "9a116e2a3d6ce449e8e2930ba45cc016148d7d1a0a7c44d57a1c09ea4882202a"
  },
  "kernelspec": {
   "display_name": "Python 3.9.7 64-bit",
   "language": "python",
   "name": "python3"
  },
  "language_info": {
   "codemirror_mode": {
    "name": "ipython",
    "version": 3
   },
   "file_extension": ".py",
   "mimetype": "text/x-python",
   "name": "python",
   "nbconvert_exporter": "python",
   "pygments_lexer": "ipython3",
   "version": "3.9.7"
  },
  "orig_nbformat": 4
 },
 "nbformat": 4,
 "nbformat_minor": 2
}
