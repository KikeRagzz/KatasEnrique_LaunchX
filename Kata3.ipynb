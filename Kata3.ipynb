{
 "cells": [
  {
   "cell_type": "code",
   "execution_count": null,
   "metadata": {},
   "outputs": [],
   "source": []
  },
  {
   "cell_type": "code",
   "execution_count": 3,
   "metadata": {},
   "outputs": [
    {
     "name": "stdout",
     "output_type": "stream",
     "text": [
      "55\n"
     ]
    }
   ],
   "source": [
    "a=97\n",
    "b=55\n",
    "#Expresión de prueba\n",
    "if a<b:\n",
    "    #Instrucción a ejecutar\n",
    "    print(b)"
   ]
  },
  {
   "cell_type": "markdown",
   "metadata": {},
   "source": [
    "Un asteroide se acerca y vaiaja una velocidad de 49 km/s\n",
    "Velocidad máxima permitida 25 km/s"
   ]
  },
  {
   "cell_type": "code",
   "execution_count": 13,
   "metadata": {},
   "outputs": [
    {
     "name": "stdout",
     "output_type": "stream",
     "text": [
      "Tranquilo, todo bien\n"
     ]
    }
   ],
   "source": [
    "Velocidad_asteroide = 49\n",
    "if Velocidad_asteroide > 25:\n",
    "    print(\"Peligro, asteroide en camino\")\n",
    "elif Velocidad_asteroide < 25:\n",
    "    print(\"Tranquilo, todo bien\")"
   ]
  },
  {
   "cell_type": "code",
   "execution_count": 4,
   "metadata": {},
   "outputs": [
    {
     "name": "stdout",
     "output_type": "stream",
     "text": [
      "Todo bien\n"
     ]
    }
   ],
   "source": [
    "velocidad_Asteroide=19\n",
    "luz = False\n",
    "if velocidad_Asteroide >= 20:\n",
    "    luz = True\n",
    "    if luz == True:\n",
    "        print(\"Mira al cielo, un asteroide se acerca\")\n",
    "else: \n",
    "    print(\"Todo bien\")"
   ]
  },
  {
   "cell_type": "markdown",
   "metadata": {},
   "source": [
    "Uso de Operadores and y or"
   ]
  },
  {
   "cell_type": "code",
   "execution_count": 6,
   "metadata": {},
   "outputs": [
    {
     "name": "stdout",
     "output_type": "stream",
     "text": [
      "Tranquilo, todo bien\n"
     ]
    }
   ],
   "source": [
    "v_Asteroide = int(input(\"Velocidad del asteroide:\"))\n",
    "t_Asteroide = int(input(\"Tamaño del asteroide:\"))\n",
    "if t_Asteroide > 25 and t_Asteroide < 1000:\n",
    "    if v_Asteroide > 25:\n",
    "        print(\"¡Cuidado, un Asteroide\")\n",
    "    elif v_Asteroide >= 20:\n",
    "        print(\"Mira al cielo, un ateroide\")\n",
    "else:\n",
    "    print(\"Tranquilo, todo bien\")"
   ]
  }
 ],
 "metadata": {
  "interpreter": {
   "hash": "9a116e2a3d6ce449e8e2930ba45cc016148d7d1a0a7c44d57a1c09ea4882202a"
  },
  "kernelspec": {
   "display_name": "Python 3.9.7 64-bit",
   "language": "python",
   "name": "python3"
  },
  "language_info": {
   "codemirror_mode": {
    "name": "ipython",
    "version": 3
   },
   "file_extension": ".py",
   "mimetype": "text/x-python",
   "name": "python",
   "nbconvert_exporter": "python",
   "pygments_lexer": "ipython3",
   "version": "3.9.7"
  },
  "orig_nbformat": 4
 },
 "nbformat": 4,
 "nbformat_minor": 2
}
