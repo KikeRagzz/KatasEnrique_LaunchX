{
 "cells": [
  {
   "cell_type": "markdown",
   "metadata": {},
   "source": [
    "KATA 9"
   ]
  },
  {
   "cell_type": "code",
   "execution_count": 1,
   "metadata": {},
   "outputs": [],
   "source": [
    "#Funciones sin argumentos\n",
    "# Defino mi función\n",
    "def rocket_parts():\n",
    "    print('payload, propellant, structure')\n",
    "#------  Argumentos Opcionales\n",
    "#>>> any()\n",
    "#Traceback (most recent call last):\n",
    "#  File '<stdin>', line 1, in <module>\n",
    "#TypeError: any() takes exactly one argument (0 given)\n",
    "#--------Uso de argumentos en una función de Python\n",
    "# ///////////Exigencia\n",
    "def distance_from_earth(destination):\n",
    "    if destination == 'Moon':\n",
    "        return '238,855'\n",
    "    else:\n",
    "        return 'Unable to compute to that destination'\n",
    "# ///////////Varios Argumentos Necesarios\n",
    "def days_to_complete(distance, speed):\n",
    "    hours = distance/speed\n",
    "    return hours/24\n",
    "# //////////Funciones como Argumentos\n",
    "round(days_to_complete(238855, 75))\n",
    "\n",
    "#USO DE ARGUMENTOS CON PALABRA CLAVE EN PYTHON\n",
    "from datetime import timedelta, datetime\n",
    "\n",
    "def arrival_time(hours=51):\n",
    "    now = datetime.now()\n",
    "    arrival = now + timedelta(hours=hours)\n",
    "    return arrival.strftime('Arrival: %A %H:%M')\n",
    "# COMBINACION DE ARGUMENTOS Y ARGUMENTOS DE PALABRA CLAVE\n",
    "def arrival_time(destination, hours=51):\n",
    "    now = datetime.now()\n",
    "    arrival = now + timedelta(hours=hours)\n",
    "    return arrival.strftime(f'{destination} Arrival: %A %H:%M')\n",
    "\n",
    "#USO DE ARGUMENTOS DE VARIABLES EN PYTHON \n",
    "def variable_length(*args):\n",
    "    print(args)\n",
    "def sequence_time(*args):\n",
    "    total_minutes = sum(args)\n",
    "    if total_minutes < 60:\n",
    "        return f'Total time to launch is {total_minutes} minutes'\n",
    "    else:\n",
    "        return f'Total time to launch is {total_minutes/60} hours'\n",
    "\n",
    "# Argumentos de Palabra clave Variable\n",
    "def variable_length(**kwargs):\n",
    "    print(kwargs)\n",
    "def crew_members(**kwargs):\n",
    "    print(f'{len(kwargs)} astronauts assigned for this mission:')\n",
    "    for title, name in kwargs.items():\n",
    "        print(f'{title}: {name}')"
   ]
  },
  {
   "cell_type": "markdown",
   "metadata": {},
   "source": [
    "Task 1:\n",
    "1.- Comienza por crear una función que necesite tres lecturas de combustible y devuelva un informe\n",
    "2.- Ahora que hemos definido la función de informes, vamos a comprobarlo. Para esta misión, los tanques no están llenos:\n",
    "3.- En lugar de simplemente crear el informe, la función también está calculando el promedio. Mejora la legibilidad extrayendo el cálculo promedio de la función en una nueva función para que el promedio se pueda hacer de forma independiente:\n",
    "4.- Ahora actualiza la función de informes para llamando a la nueva función del promedio:"
   ]
  },
  {
   "cell_type": "code",
   "execution_count": 8,
   "metadata": {},
   "outputs": [
    {
     "name": "stdout",
     "output_type": "stream",
     "text": [
      "Reporte de Conbustible: \n",
      " Tank1: 10%\n",
      " Tank2: 0% \n",
      " Tank3:0%\n"
     ]
    }
   ],
   "source": [
    "#def combustible(tank1, tank2, tank3):\n",
    "    #promedio = (tank1+ tank2+ tank3)/3\n",
    "    #return f\"Reporte de Conbustible: \\n Tank1: {tank1}%\\n Tank2: {tank2}% \\n Tank3:{tank3}%\"\n",
    "\n",
    "print(combustible(10,0,0))\n",
    "def promedio (*args):\n",
    "    total = sum(args)\n",
    "    prom = total / len(args)\n",
    "    return prom\n",
    "    \n"
   ]
  },
  {
   "cell_type": "code",
   "execution_count": 12,
   "metadata": {},
   "outputs": [
    {
     "name": "stdout",
     "output_type": "stream",
     "text": [
      "Reporte de Conbustible: \n",
      " Tank1: 10%\n",
      " Tank2: 0% \n",
      " Tank3:0% \n",
      " promedio3.3333333333333335\n"
     ]
    }
   ],
   "source": [
    "def combustible(tank1, tank2, tank3):\n",
    "    #promedio = promedio(tank1, tank2, tank3)\n",
    "    return f\"Reporte de Conbustible: \\n Tank1: {tank1}%\\n Tank2: {tank2}% \\n Tank3:{tank3}% \\n promedio{promedio(tank1, tank2, tank3)}\"\n",
    "\n",
    "print(combustible(10,0,0))"
   ]
  },
  {
   "cell_type": "markdown",
   "metadata": {},
   "source": [
    "Task 2 \n",
    "1.- En este ejercicio, construirás un informe de cohete que requiere varias piezas de información, como el tiempo hasta el destino, el combustible a la izquierda y el nombre del destino. Comienza por crear una función que creará un informe preciso de la misión:\n",
    "2.-La función es problemática porque no se puede adaptar para minutos adicionales o tanques adicionales de combustible. Hazlo más flexible permitiendo cualquier número de pasos basados en el tiempo y cualquier número de tanques. En lugar de usar *args y **kwargs, aprovecha el hecho de que puedes usar cualquier nombre que desees. Asegurate que la función sea más legible mediante el uso de nombres de variables que están asociados con las entradas, como *minutes y **fuel_reservoirs:\n",
    "3.- Debido a que el combustible que queda en los tanques es específico de cada tanque, actualiza la función para usar el nombre de cada tanque en el informe:\n",
    "\n"
   ]
  },
  {
   "cell_type": "code",
   "execution_count": 17,
   "metadata": {},
   "outputs": [
    {
     "name": "stdout",
     "output_type": "stream",
     "text": [
      "Destino: Moon \n",
      "Tiempo total: 65 minutos\n",
      "Conbustibe Total: 500000 Gl\n",
      "Destino: Moon \n",
      "Tiempo total: 65 minutos\n",
      "Conbustibe Total: 500000 Gl\n",
      "Destino: Moon \n",
      "Tiempo total: 65 minutos\n",
      "Conbustibe Total: 500000 Gl\n"
     ]
    }
   ],
   "source": [
    "def dragon_report(date,time, destiny, outdoor_tank, indoor_tank):\n",
    "    return f\"Destino: {destiny} \\nTiempo total: {date+time} minutos\\nConbustibe Total: {outdoor_tank+indoor_tank} Gl\"\n",
    "print(dragon_report(14, 51, \"Moon\", 200000, 300000))\n",
    "\n",
    "def dragon_report_1(destiny, *o_time, **tankes):\n",
    "    return f\"\"\"Destino: {destiny}\n",
    "    Tiempor total:{sum(o_time)}\n",
    "    Combustible Total: {sum(tankes.values())}\"\"\"\n",
    "print(dragon_report(14, 51, \"Moon\", 200000, 300000))\n",
    "\n",
    "def dragon_report_2(destiny, *o_time, **tankes):\n",
    "    report= f\"\"\"Destino: {destiny}\n",
    "    Tiempor total:{sum(o_time)}\n",
    "    Combustible Total: {sum(tankes.values())}\"\"\"\n",
    "    for tank_n in tankes:\n",
    "        report +=f\"{tank_n}\"\n",
    "    return report\n",
    "print(dragon_report(14, 51, \"Moon\", 200000, 300000))\n"
   ]
  }
 ],
 "metadata": {
  "interpreter": {
   "hash": "9a116e2a3d6ce449e8e2930ba45cc016148d7d1a0a7c44d57a1c09ea4882202a"
  },
  "kernelspec": {
   "display_name": "Python 3.9.7 64-bit",
   "language": "python",
   "name": "python3"
  },
  "language_info": {
   "codemirror_mode": {
    "name": "ipython",
    "version": 3
   },
   "file_extension": ".py",
   "mimetype": "text/x-python",
   "name": "python",
   "nbconvert_exporter": "python",
   "pygments_lexer": "ipython3",
   "version": "3.9.7"
  },
  "orig_nbformat": 4
 },
 "nbformat": 4,
 "nbformat_minor": 2
}
