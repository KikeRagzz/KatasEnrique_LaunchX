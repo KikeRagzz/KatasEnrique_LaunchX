{
 "cells": [
  {
   "cell_type": "code",
   "execution_count": null,
   "metadata": {},
   "outputs": [],
   "source": [
    "KATA 4"
   ]
  },
  {
   "cell_type": "code",
   "execution_count": 9,
   "metadata": {},
   "outputs": [
    {
     "name": "stdout",
     "output_type": "stream",
     "text": [
      "30\n",
      "This temperature is in Celsius\n"
     ]
    },
    {
     "data": {
      "text/plain": [
       "'Interesting Facts About The Moon'"
      ]
     },
     "execution_count": 9,
     "metadata": {},
     "output_type": "execute_result"
    }
   ],
   "source": [
    "#Immunibilidad de cadenas\n",
    "fact = \"The moon has no atmosphere\"\n",
    "fact + \"No sound can be heard on the moon\"\n",
    "fact\n",
    "#Uso de comillas\n",
    "moon_radius = \"the moon has a radious od 1,000 miles\"\n",
    "\"\"\"We only see about 60% of the Moon´s surface, this is know as the \"near side\".\"\"\"\n",
    "#Métodos String en Python \n",
    "'temperatures and facts about the moon'.title()\n",
    "#Dividir una cadena\n",
    "temperatures = '''Daylight: 260 F\n",
    "... Nighttime: -280 F'''\n",
    "temperatures .split()\n",
    "#Buscar Cadena\n",
    "temperatures = \"\"\"Saturn has a daytime temperature of -170 degrees Celsius,\n",
    "... while Mars has -28 Celsius.\"\"\"\n",
    "#Mayusculas y minusculas\n",
    "\"The Moon And The Earth\".lower()\n",
    "'The Moon And The Earth'.upper()\n",
    "mars_temperature = 'The highest temperature on Mars is about 30 C'\n",
    "for item in mars_temperature.split():\n",
    "    if item.isnumeric():\n",
    "        print(item)\n",
    "if \"30 C\".endswith(\"C\"):\n",
    "    print(\"This temperature is in Celsius\")\n",
    "#Transformar Texto\n",
    "'Saturn has a daytime temperature of -170 degrees Celsius, while Mars has -28 Celsius.'.replace('Celsius', 'C')\n",
    "moon_facts = ['The Moon is drifting away from the Earth.', 'On average, the Moon is moving about 4cm every year']\n",
    "'\\n'.join(moon_facts)\n",
    "#Formato de Cadenas en Python \n",
    "mass_percentage = '1/6'\n",
    "#print('On the Moon, you would weigh about {} of your weight on Earth'.format(mass_percentage))\n",
    "#print(\"\"\"You are lighter on the {moon}, because on the {moon} \n",
    "#... you would weigh about {mass} of your weight on Earth\"\"\".format(moon=\"Moon\", mass=mass_percentage))\n",
    "#print(f'On the Moon, you would weigh about {mass_percentage} of your weight on Earth')\n",
    "#print(f'On the Moon, you would weigh about {round(100/6, 1)}% of your weight on Earth')\n",
    "subject = 'interesting facts about the moon'\n",
    "f'{subject.title()}'"
   ]
  },
  {
   "cell_type": "markdown",
   "metadata": {},
   "source": [
    "KATA"
   ]
  },
  {
   "cell_type": "code",
   "execution_count": 44,
   "metadata": {},
   "outputs": [
    {
     "name": "stdout",
     "output_type": "stream",
     "text": [
      " \n",
      "On average, the Moon moves 4cm away from the Earth every year\n",
      " The highest daylight temperature of the Moon is 127 C\n",
      " \n",
      "On average, the Moon moves 4cm away from the Earth every year\n",
      " The highest daylight temperature of the Moon is 127 Celsius\n"
     ]
    }
   ],
   "source": [
    "# TasK 1\n",
    "text = \"\"\"Interesting facts about the Moon. The Moon is Earth's only satellite. There are several interesting facts about the Moon and how it affects life here on Earth. \n",
    "On average, the Moon moves 4cm away from the Earth every year. This yearly drift is not significant enough to cause immediate effects on Earth. The highest daylight temperature of the Moon is 127 C.\"\"\"\n",
    "text = text.split('.')\n",
    "Passwords = [\"average\", \"temperature\", \"distance\"]\n",
    "for words in text: \n",
    "    for Password in Passwords:\n",
    "        if Password in words:\n",
    "            print(words)\n",
    "            break\n",
    "for words in text: \n",
    "    for Password in Passwords:\n",
    "        if Password in words:\n",
    "            print(words.replace('C', 'Celsius'))\n",
    "            break\n",
    "    \n",
    "        "
   ]
  },
  {
   "cell_type": "code",
   "execution_count": 60,
   "metadata": {},
   "outputs": [
    {
     "name": "stdout",
     "output_type": "stream",
     "text": [
      "Gravity of Ganímedes and Mars\n",
      " -------------------------------------------------- \n",
      "Planeta:Mars \n",
      "Gravedad: 1.4300000000000002 \n",
      "Nombre: Ganímedes \n"
     ]
    }
   ],
   "source": [
    "#Task 2 \n",
    "name = \"Ganímedes\"\n",
    "gravity = 0.00143 # in kms\n",
    "planet = \"Mars\"\n",
    "title = f\"Gravity of {name} and {planet}\"\n",
    "#print(title)\n",
    "plantilla = f\"Planeta:{planet} \\nGravedad: {gravity*1000} \\nNombre: {name} \"\n",
    "text=f\"{title}\\n {'-'*50} \\n{plantilla}\"\n",
    "print(text)"
   ]
  }
 ],
 "metadata": {
  "interpreter": {
   "hash": "9a116e2a3d6ce449e8e2930ba45cc016148d7d1a0a7c44d57a1c09ea4882202a"
  },
  "kernelspec": {
   "display_name": "Python 3.9.7 64-bit",
   "language": "python",
   "name": "python3"
  },
  "language_info": {
   "codemirror_mode": {
    "name": "ipython",
    "version": 3
   },
   "file_extension": ".py",
   "mimetype": "text/x-python",
   "name": "python",
   "nbconvert_exporter": "python",
   "pygments_lexer": "ipython3",
   "version": "3.9.7"
  },
  "orig_nbformat": 4
 },
 "nbformat": 4,
 "nbformat_minor": 2
}
